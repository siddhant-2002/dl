{
 "cells": [
  {
   "cell_type": "code",
   "execution_count": 26,
   "id": "778db25d",
   "metadata": {},
   "outputs": [],
   "source": [
    "import tensorflow\n",
    "import keras\n",
    "import matplotlib.pyplot as plt\n",
    "import numpy as np\n",
    "from tensorflow.keras.applications import VGG16\n",
    "from tensorflow.keras.layers import Flatten, Conv2D, BatchNormalization, Layer, Dense, Dropout, Input\n",
    "from tensorflow.keras.optimizers import SGD, Adam\n",
    "from tensorflow.keras.models import Sequential\n",
    "from tensorflow.keras.losses import sparse_categorical_crossentropy\n",
    "from tensorflow.keras.datasets import mnist\n",
    "from tensorflow.image import resize"
   ]
  },
  {
   "cell_type": "code",
   "execution_count": 44,
   "id": "6b4a726e",
   "metadata": {},
   "outputs": [
    {
     "data": {
      "text/plain": [
       "<matplotlib.image.AxesImage at 0x272e80f01f0>"
      ]
     },
     "execution_count": 44,
     "metadata": {},
     "output_type": "execute_result"
    },
    {
     "data": {
      "image/png": "[encoded data removed]",
      "text/plain": [
       "<Figure size 432x288 with 1 Axes>"
      ]
     },
     "metadata": {
      "needs_background": "light"
     },
     "output_type": "display_data"
    }
   ],
   "source": [
    "(x_train, y_train), (x_test, y_test) = mnist.load_data()\n",
    "x_train = np.stack((x_train,) * 3, axis=-1)\n",
    "x_test = np.stack((x_test,) * 3, axis=-1)\n",
    "\n",
    "x_train = resize(x_train, (32, 32))\n",
    "x_test = resize(x_test, (32, 32))\n",
    "\n",
    "x_train = x_train/255.0\n",
    "x_test = x_test/255.0"
   ]
  },
  {
   "cell_type": "code",
   "execution_count": 30,
   "id": "ae3a2447",
   "metadata": {},
   "outputs": [],
   "source": [
    "vgg_model = VGG16(weights='imagenet', include_top=False, input_shape=(32, 32, 3))\n",
    "for layer in vgg_model.layers:\n",
    "    layer.trainable=False"
   ]
  },
  {
   "cell_type": "code",
   "execution_count": 13,
   "id": "c569a6cc",
   "metadata": {},
   "outputs": [
    {
     "name": "stdout",
     "output_type": "stream",
     "text": [
      "Model: \"vgg16\"\n",
      "_________________________________________________________________\n",
      " Layer (type)                Output Shape              Param #   \n",
      "=================================================================\n",
      " input_3 (InputLayer)        [(None, 32, 32, 3)]       0         \n",
      "                                                                 \n",
      " block1_conv1 (Conv2D)       (None, 32, 32, 64)        1792      \n",
      "                                                                 \n",
      " block1_conv2 (Conv2D)       (None, 32, 32, 64)        36928     \n",
      "                                                                 \n",
      " block1_pool (MaxPooling2D)  (None, 16, 16, 64)        0         \n",
      "                                                                 \n",
      " block2_conv1 (Conv2D)       (None, 16, 16, 128)       73856     \n",
      "                                                                 \n",
      " block2_conv2 (Conv2D)       (None, 16, 16, 128)       147584    \n",
      "                                                                 \n",
      " block2_pool (MaxPooling2D)  (None, 8, 8, 128)         0         \n",
      "                                                                 \n",
      " block3_conv1 (Conv2D)       (None, 8, 8, 256)         295168    \n",
      "                                                                 \n",
      " block3_conv2 (Conv2D)       (None, 8, 8, 256)         590080    \n",
      "                                                                 \n",
      " block3_conv3 (Conv2D)       (None, 8, 8, 256)         590080    \n",
      "                                                                 \n",
      " block3_pool (MaxPooling2D)  (None, 4, 4, 256)         0         \n",
      "                                                                 \n",
      " block4_conv1 (Conv2D)       (None, 4, 4, 512)         1180160   \n",
      "                                                                 \n",
      " block4_conv2 (Conv2D)       (None, 4, 4, 512)         2359808   \n",
      "                                                                 \n",
      " block4_conv3 (Conv2D)       (None, 4, 4, 512)         2359808   \n",
      "                                                                 \n",
      " block4_pool (MaxPooling2D)  (None, 2, 2, 512)         0         \n",
      "                                                                 \n",
      " block5_conv1 (Conv2D)       (None, 2, 2, 512)         2359808   \n",
      "                                                                 \n",
      " block5_conv2 (Conv2D)       (None, 2, 2, 512)         2359808   \n",
      "                                                                 \n",
      " block5_conv3 (Conv2D)       (None, 2, 2, 512)         2359808   \n",
      "                                                                 \n",
      " block5_pool (MaxPooling2D)  (None, 1, 1, 512)         0         \n",
      "                                                                 \n",
      "=================================================================\n",
      "Total params: 14,714,688\n",
      "Trainable params: 0\n",
      "Non-trainable params: 14,714,688\n",
      "_________________________________________________________________\n"
     ]
    }
   ],
   "source": [
    "vgg_model.summary()"
   ]
  },
  {
   "cell_type": "code",
   "execution_count": 53,
   "id": "7534f89d",
   "metadata": {},
   "outputs": [],
   "source": [
    "custom_classifier = Sequential()\n",
    "custom_classifier.add(Flatten())\n",
    "custom_classifier.add(Dense(128, activation=\"relu\"))\n",
    "custom_classifier.add(Dropout(0.4))\n",
    "custom_classifier.add(Dense(64, activation='relu'))\n",
    "custom_classifier.add(Dropout(0.4))\n",
    "custom_classifier.add(Dense(10, activation='softmax'))"
   ]
  },
  {
   "cell_type": "code",
   "execution_count": 54,
   "id": "21589268",
   "metadata": {},
   "outputs": [],
   "source": [
    "model = Sequential([vgg_model, custom_classifier])"
   ]
  },
  {
   "cell_type": "code",
   "execution_count": 55,
   "id": "b3c0d60e",
   "metadata": {},
   "outputs": [
    {
     "name": "stdout",
     "output_type": "stream",
     "text": [
      "Model: \"sequential_6\"\n",
      "_________________________________________________________________\n",
      " Layer (type)                Output Shape              Param #   \n",
      "=================================================================\n",
      " vgg16 (Functional)          (None, 1, 1, 512)         14714688  \n",
      "                                                                 \n",
      " sequential_5 (Sequential)   (None, 10)                74570     \n",
      "                                                                 \n",
      "=================================================================\n",
      "Total params: 14,789,258\n",
      "Trainable params: 74,570\n",
      "Non-trainable params: 14,714,688\n",
      "_________________________________________________________________\n"
     ]
    }
   ],
   "source": [
    "model.summary()"
   ]
  },
  {
   "cell_type": "code",
   "execution_count": 56,
   "id": "84743177",
   "metadata": {},
   "outputs": [],
   "source": [
    "model.compile(optimizer='adam', loss=sparse_categorical_crossentropy ,metrics=['accuracy'])"
   ]
  },
  {
   "cell_type": "code",
   "execution_count": 57,
   "id": "05c3209b",
   "metadata": {},
   "outputs": [
    {
     "name": "stdout",
     "output_type": "stream",
     "text": [
      "Epoch 1/5\n",
      "235/235 [==============================] - 10s 39ms/step - loss: 1.0538 - accuracy: 0.6427 - val_loss: 0.3401 - val_accuracy: 0.8965\n",
      "Epoch 2/5\n",
      "235/235 [==============================] - 9s 38ms/step - loss: 0.4135 - accuracy: 0.8745 - val_loss: 0.1870 - val_accuracy: 0.9429\n",
      "Epoch 3/5\n",
      "235/235 [==============================] - 9s 38ms/step - loss: 0.2981 - accuracy: 0.9105 - val_loss: 0.1435 - val_accuracy: 0.9541\n",
      "Epoch 4/5\n",
      "235/235 [==============================] - 9s 38ms/step - loss: 0.2443 - accuracy: 0.9280 - val_loss: 0.1298 - val_accuracy: 0.9574\n",
      "Epoch 5/5\n",
      "235/235 [==============================] - 9s 39ms/step - loss: 0.2179 - accuracy: 0.9357 - val_loss: 0.1158 - val_accuracy: 0.9622\n"
     ]
    },
    {
     "data": {
      "text/plain": [
       "<keras.callbacks.History at 0x272eeb3c310>"
      ]
     },
     "execution_count": 57,
     "metadata": {},
     "output_type": "execute_result"
    }
   ],
   "source": [
    "model.fit(x_train, y_train, epochs=5, batch_size=256, validation_data=(x_test, y_test))"
   ]
  },
  {
   "cell_type": "code",
   "execution_count": 58,
   "id": "d83a8891",
   "metadata": {},
   "outputs": [],
   "source": [
    "for layer in vgg_model.layers[:-4]:\n",
    " layer.trainable = True"
   ]
  },
  {
   "cell_type": "code",
   "execution_count": 59,
   "id": "d9d085e2",
   "metadata": {},
   "outputs": [
    {
     "name": "stdout",
     "output_type": "stream",
     "text": [
      "Epoch 1/5\n",
      "235/235 [==============================] - 26s 97ms/step - loss: 1.9321 - accuracy: 0.4023 - val_loss: 0.3168 - val_accuracy: 0.9118\n",
      "Epoch 2/5\n",
      "235/235 [==============================] - 22s 94ms/step - loss: 0.1795 - accuracy: 0.9566 - val_loss: 0.0614 - val_accuracy: 0.9842\n",
      "Epoch 3/5\n",
      "235/235 [==============================] - 22s 94ms/step - loss: 0.0908 - accuracy: 0.9793 - val_loss: 0.0485 - val_accuracy: 0.9866\n",
      "Epoch 4/5\n",
      "235/235 [==============================] - 22s 94ms/step - loss: 0.0640 - accuracy: 0.9856 - val_loss: 0.0390 - val_accuracy: 0.9906\n",
      "Epoch 5/5\n",
      "235/235 [==============================] - 22s 94ms/step - loss: 0.0564 - accuracy: 0.9873 - val_loss: 0.0472 - val_accuracy: 0.9888\n"
     ]
    },
    {
     "data": {
      "text/plain": [
       "<keras.callbacks.History at 0x272f5727f40>"
      ]
     },
     "execution_count": 59,
     "metadata": {},
     "output_type": "execute_result"
    }
   ],
   "source": [
    "model.compile(optimizer='adam', loss=sparse_categorical_crossentropy ,metrics=['accuracy'])\n",
    "model.fit(x_train, y_train, epochs=5, batch_size=256, validation_data=(x_test, y_test))"
   ]
  },
  {
   "cell_type": "markdown",
   "id": "da51cc92",
   "metadata": {},
   "source": [
    "Here we can see using weights of VGG16 model we are able to train a model with high accuracy only in few epochs whereas we are using 20 to 30 epochs in mnist data classification here we are using only 5 epochs also after fine tuning the model by unfreezing the lower 4 layers we can increase the accuracy of model from 96% to 99% in 5 epochs"
   ]
  },
  {
   "cell_type": "code",
   "execution_count": null,
   "id": "10099a0b",
   "metadata": {},
   "outputs": [],
   "source": []
  }
 ],
 "metadata": {
  "kernelspec": {
   "display_name": "Python 3 (ipykernel)",
   "language": "python",
   "name": "python3"
  },
  "language_info": {
   "codemirror_mode": {
    "name": "ipython",
    "version": 3
   },
   "file_extension": ".py",
   "mimetype": "text/x-python",
   "name": "python",
   "nbconvert_exporter": "python",
   "pygments_lexer": "ipython3",
   "version": "3.9.7"
  }
 },
 "nbformat": 4,
 "nbformat_minor": 5
}
