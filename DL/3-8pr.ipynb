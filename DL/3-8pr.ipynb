{
 "cells": [
  {
   "cell_type": "code",
   "execution_count": 2,
   "id": "b77bb5bc-7d4d-4ca6-ac26-bf22f83f5212",
   "metadata": {},
   "outputs": [
    {
     "name": "stdout",
     "output_type": "stream",
     "text": [
      "Epoch 1/2\n",
      "469/469 [==============================] - 63s 131ms/step - loss: 0.1066 - accuracy: 0.8115 - val_loss: 0.0731 - val_accuracy: 0.8142\n",
      "Epoch 2/2\n",
      "469/469 [==============================] - 66s 140ms/step - loss: 0.0718 - accuracy: 0.8153 - val_loss: 0.0699 - val_accuracy: 0.8144\n"
     ]
    }
   ],
   "source": [
    "\n",
    "\n",
    "import tensorflow as tf\n",
    "from tensorflow import keras\n",
    "from keras import layers,models\n",
    "import numpy as np\n",
    "\n",
    "(x_train,y_train),(x_test,y_test)=tf.keras.datasets.mnist.load_data();\n",
    "\n",
    "x_test=x_test/255\n",
    "x_train=x_train/255\n",
    "\n",
    "x_train = x_train.reshape((-1, 28, 28, 1))\n",
    "x_test = x_test.reshape((-1, 28, 28, 1))\n",
    "\n",
    "#create encoder\n",
    "encoder=models.Sequential([\n",
    "    layers.Input(shape=(28,28,1)),\n",
    "    layers.Conv2D(32,(3,3),activation='relu',padding='same'),\n",
    "    layers.MaxPooling2D(2,2),\n",
    "    layers.Conv2D(64,(3,3),activation='relu',padding='same'),\n",
    "    layers.MaxPooling2D(2,2),\n",
    "\n",
    "])\n",
    "\n",
    "#decoder\n",
    "decoder=models.Sequential([\n",
    "    layers.Conv2DTranspose(64,(3,3),activation=\"relu\", input_shape=(7,7,64),padding='same'),\n",
    "    layers.UpSampling2D((2,2)),\n",
    "    layers.Conv2DTranspose(32,(3,3),activation='relu',padding='same'),\n",
    "    layers.UpSampling2D((2,2)),\n",
    "    layers.Conv2DTranspose(1,(3,3),activation='sigmoid',padding='same')\n",
    "])\n",
    "\n",
    "#crete autoencoder\n",
    "autoencoder=models.Sequential([encoder,decoder])\n",
    "\n",
    "#compile\n",
    "autoencoder.compile(\n",
    "    optimizer='adam',\n",
    "    loss='binary_crossentropy',\n",
    "    metrics=['accuracy']\n",
    ")\n",
    "\n",
    "#train\n",
    "h=autoencoder.fit(x_train,x_train,validation_data=(x_test,x_test),epochs=2,batch_size=128)"
   ]
  },
  {
   "cell_type": "code",
   "execution_count": null,
   "id": "658745e5-08fb-465b-b165-41252087d493",
   "metadata": {},
   "outputs": [],
   "source": []
  }
 ],
 "metadata": {
  "kernelspec": {
   "display_name": "Python 3 (ipykernel)",
   "language": "python",
   "name": "python3"
  },
  "language_info": {
   "codemirror_mode": {
    "name": "ipython",
    "version": 3
   },
   "file_extension": ".py",
   "mimetype": "text/x-python",
   "name": "python",
   "nbconvert_exporter": "python",
   "pygments_lexer": "ipython3",
   "version": "3.11.4"
  }
 },
 "nbformat": 4,
 "nbformat_minor": 5
}
