{
 "cells": [
  {
   "cell_type": "code",
   "execution_count": 10,
   "id": "e534cc1b",
   "metadata": {},
   "outputs": [],
   "source": [
    "import tensorflow as tf\n",
    "from keras.models import Sequential\n",
    "from keras.layers import Dense, Conv2D, Dropout, Flatten, MaxPooling2D\n",
    "import matplotlib.pyplot as plt\n",
    "import numpy as np"
   ]
  },
  {
   "cell_type": "code",
   "execution_count": 11,
   "id": "f75cccf5",
   "metadata": {},
   "outputs": [],
   "source": [
    "# a. Loading and Preprocessing img data\n",
    "mnist=tf.keras.datasets.mnist\n",
    "(x_train,y_train),(x_test, y_test)=mnist.load_data()\n",
    "input_shape=(28,28,1)"
   ]
  },
  {
   "cell_type": "code",
   "execution_count": 12,
   "id": "78d745a6",
   "metadata": {},
   "outputs": [],
   "source": [
    "x_train = x_train.reshape(x_train.shape[0], 28, 28, 1)\n",
    "x_test = x_test.reshape(x_test.shape[0], 28, 28, 1)#we have reshape it to get channel 1D as grascale"
   ]
  },
  {
   "cell_type": "code",
   "execution_count": 13,
   "id": "5d9fc5c7",
   "metadata": {},
   "outputs": [],
   "source": [
    "x_train = x_train.astype('float32')\n",
    "x_test = x_test.astype('float32')#Converting x_train and x_test to float32 is done to ensure that the data type of the image arrays is compatible with deep learning frameworks, which commonly expect floating-point values for numerical stability and efficiency during computation."
   ]
  },
  {
   "cell_type": "code",
   "execution_count": 14,
   "id": "6b8e6615",
   "metadata": {},
   "outputs": [
    {
     "name": "stdout",
     "output_type": "stream",
     "text": [
      "shape of training:  (60000, 28, 28, 1)\n",
      "shape of testing:  (10000, 28, 28, 1)\n"
     ]
    }
   ],
   "source": [
    "x_train = x_train/255     #normalaize the data to 0 to 1 (becoz pixel value ranges betwwen 0 to 255...black 0\n",
    "x_test = x_test/255\n",
    "print(\"shape of training: \", x_train.shape)\n",
    "print(\"shape of testing: \", x_test.shape)"
   ]
  },
  {
   "cell_type": "code",
   "execution_count": 15,
   "id": "b01b3ebb",
   "metadata": {
    "scrolled": true
   },
   "outputs": [
    {
     "name": "stdout",
     "output_type": "stream",
     "text": [
      "Model: \"sequential_1\"\n",
      "_________________________________________________________________\n",
      " Layer (type)                Output Shape              Param #   \n",
      "=================================================================\n",
      " conv2d_1 (Conv2D)           (None, 26, 26, 28)        280       \n",
      "                                                                 \n",
      " max_pooling2d_1 (MaxPoolin  (None, 13, 13, 28)        0         \n",
      " g2D)                                                            \n",
      "                                                                 \n",
      " flatten_1 (Flatten)         (None, 4732)              0         \n",
      "                                                                 \n",
      " dense_2 (Dense)             (None, 200)               946600    \n",
      "                                                                 \n",
      " dropout_1 (Dropout)         (None, 200)               0         \n",
      "                                                                 \n",
      " dense_3 (Dense)             (None, 10)                2010      \n",
      "                                                                 \n",
      "=================================================================\n",
      "Total params: 948890 (3.62 MB)\n",
      "Trainable params: 948890 (3.62 MB)\n",
      "Non-trainable params: 0 (0.00 Byte)\n",
      "_________________________________________________________________\n"
     ]
    }
   ],
   "source": [
    "# b. Defining the model's architecture\n",
    "model = Sequential()  #suentially\n",
    "model.add(Conv2D(28, kernel_size=(3,3), input_shape=input_shape))    #3parameter(convlayer,kernalzise,input data)\n",
    "model.add(MaxPooling2D(pool_size=(2,2)))\n",
    "model.add(Flatten()) #we want to convert  multidimenstional img into signle vector to pass hidden layer\n",
    "model.add(Dense(200,activation= \"relu\")) #hidden layer \n",
    "model.add(Dropout(0.3))   #remove random neuron from hidden\n",
    "model.add(Dense(10,activation= \"softmax\"))#output layer\n",
    "model.summary()"
   ]
  },
  {
   "cell_type": "code",
   "execution_count": 16,
   "id": "6cca4bff",
   "metadata": {},
   "outputs": [
    {
     "name": "stdout",
     "output_type": "stream",
     "text": [
      "Epoch 1/2\n",
      "1875/1875 [==============================] - 33s 17ms/step - loss: 0.2111 - accuracy: 0.9358\n",
      "Epoch 2/2\n",
      "1875/1875 [==============================] - 32s 17ms/step - loss: 0.0882 - accuracy: 0.9728\n"
     ]
    },
    {
     "data": {
      "text/plain": [
       "<keras.src.callbacks.History at 0x1271cf39a50>"
      ]
     },
     "execution_count": 16,
     "metadata": {},
     "output_type": "execute_result"
    }
   ],
   "source": [
    "# c. Training the model\n",
    "model.compile(optimizer=\"adam\",                                      \n",
    "             loss=\"sparse_categorical_crossentropy\",\n",
    "             metrics=['accuracy'])\n",
    "model.fit(x_train, y_train, epochs=2)            #model ko train karne ke liye compile aur fit method ka use karte hai\n",
    "                                                        #parameter 3 2no mai\n"
   ]
  },
  {
   "cell_type": "code",
   "execution_count": 17,
   "id": "a6224573",
   "metadata": {},
   "outputs": [
    {
     "name": "stdout",
     "output_type": "stream",
     "text": [
      "313/313 [==============================] - 1s 4ms/step - loss: 0.0595 - accuracy: 0.9805\n",
      "Loss=0.060\n",
      "Accuracy=0.980\n"
     ]
    }
   ],
   "source": [
    "# d. Estimating the model performance\n",
    "test_loss,test_acc=model.evaluate(x_test,y_test)    #model.evaluate\n",
    "print(\"Loss=%.3f\" %test_loss)\n",
    "print(\"Accuracy=%.3f\" %test_acc)"
   ]
  },
  {
   "cell_type": "code",
   "execution_count": 18,
   "id": "e6f6b8bf",
   "metadata": {},
   "outputs": [
    {
     "data": {
      "image/png": "[encoded data removed]",
      "text/plain": [
       "<Figure size 640x480 with 1 Axes>"
      ]
     },
     "metadata": {},
     "output_type": "display_data"
    },
    {
     "name": "stdout",
     "output_type": "stream",
     "text": [
      "1/1 [==============================] - 0s 98ms/step\n",
      "predicted class: 0\n"
     ]
    }
   ],
   "source": [
    "image = x_train[1]\n",
    "plt.imshow(np.squeeze(image), cmap='gray')      #squeeze signgle dimentional entries remove kart# Using cmap='gray' helps show the pixel intensity in grayscale, with 0 as black and 1 (or 255 before normalization) as white.\n",
    "plt.show()\n",
    "\n",
    "image = image.reshape(1,image.shape[0], image.shape[1], image.shape[2])#4 parameter pass karne padte hai..batch size,height,width,channel\n",
    "predict_model = model.predict([image])\n",
    "print(\"predicted class: {}\".format(np.argmax(predict_model)))   #max probability kontya clas chi#0-9 ch numbers ahe mg jyachi probability jast ahe tyacha class return hoil"
   ]
  },
  {
   "cell_type": "code",
   "execution_count": null,
   "id": "42c1420a",
   "metadata": {},
   "outputs": [],
   "source": []
  }
 ],
 "metadata": {
  "kernelspec": {
   "display_name": "Python 3 (ipykernel)",
   "language": "python",
   "name": "python3"
  },
  "language_info": {
   "codemirror_mode": {
    "name": "ipython",
    "version": 3
   },
   "file_extension": ".py",
   "mimetype": "text/x-python",
   "name": "python",
   "nbconvert_exporter": "python",
   "pygments_lexer": "ipython3",
   "version": "3.11.4"
  }
 },
 "nbformat": 4,
 "nbformat_minor": 5
}
